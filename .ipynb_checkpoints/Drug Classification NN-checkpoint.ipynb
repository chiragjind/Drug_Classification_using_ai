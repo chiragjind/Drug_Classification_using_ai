{
 "cells": [
  {
   "cell_type": "code",
   "execution_count": 3,
   "id": "64e1c041",
   "metadata": {
    "execution": {
     "iopub.execute_input": "2023-01-24T05:00:50.937486Z",
     "iopub.status.busy": "2023-01-24T05:00:50.936876Z",
     "iopub.status.idle": "2023-01-24T05:00:51.178623Z",
     "shell.execute_reply": "2023-01-24T05:00:51.177492Z"
    },
    "papermill": {
     "duration": 0.262141,
     "end_time": "2023-01-24T05:00:51.181698",
     "exception": false,
     "start_time": "2023-01-24T05:00:50.919557",
     "status": "completed"
    },
    "tags": []
   },
   "outputs": [],
   "source": [
    "import pandas as pd\n",
    "import numpy as np\n",
    "import matplotlib.pyplot as plt\n",
    "import seaborn as sns\n",
    "%matplotlib inline\n",
    "from sklearn.linear_model import LogisticRegression\n",
    "from sklearn.model_selection import train_test_split\n",
    "from sklearn.metrics import confusion_matrix, accuracy_score\n",
    "from sklearn.metrics import accuracy_score, confusion_matrix, classification_report, f1_score, precision_score, recall_score, roc_auc_score, roc_curve"
   ]
  },
  {
   "cell_type": "code",
   "execution_count": 4,
   "id": "a0981a7c",
   "metadata": {
    "execution": {
     "iopub.execute_input": "2023-01-24T05:00:51.215800Z",
     "iopub.status.busy": "2023-01-24T05:00:51.215472Z",
     "iopub.status.idle": "2023-01-24T05:00:51.220251Z",
     "shell.execute_reply": "2023-01-24T05:00:51.219467Z"
    },
    "papermill": {
     "duration": 0.027998,
     "end_time": "2023-01-24T05:00:51.226138",
     "exception": false,
     "start_time": "2023-01-24T05:00:51.198140",
     "status": "completed"
    },
    "tags": []
   },
   "outputs": [],
   "source": [
    "import warnings\n",
    "warnings.simplefilter('ignore')"
   ]
  },
  {
   "cell_type": "code",
   "execution_count": 5,
   "id": "3c8e1d60",
   "metadata": {
    "execution": {
     "iopub.execute_input": "2023-01-24T05:00:51.262276Z",
     "iopub.status.busy": "2023-01-24T05:00:51.261871Z",
     "iopub.status.idle": "2023-01-24T05:00:51.279966Z",
     "shell.execute_reply": "2023-01-24T05:00:51.279077Z"
    },
    "papermill": {
     "duration": 0.039818,
     "end_time": "2023-01-24T05:00:51.283080",
     "exception": false,
     "start_time": "2023-01-24T05:00:51.243262",
     "status": "completed"
    },
    "tags": []
   },
   "outputs": [],
   "source": [
    "df=pd.read_csv(r'./drug_classification.csv')"
   ]
  },
  {
   "cell_type": "code",
   "execution_count": 6,
   "id": "9c902597",
   "metadata": {
    "execution": {
     "iopub.execute_input": "2023-01-24T05:00:51.321309Z",
     "iopub.status.busy": "2023-01-24T05:00:51.320952Z",
     "iopub.status.idle": "2023-01-24T05:00:51.350184Z",
     "shell.execute_reply": "2023-01-24T05:00:51.349233Z"
    },
    "papermill": {
     "duration": 0.051374,
     "end_time": "2023-01-24T05:00:51.352846",
     "exception": false,
     "start_time": "2023-01-24T05:00:51.301472",
     "status": "completed"
    },
    "tags": []
   },
   "outputs": [
    {
     "data": {
      "text/html": [
       "<div>\n",
       "<style scoped>\n",
       "    .dataframe tbody tr th:only-of-type {\n",
       "        vertical-align: middle;\n",
       "    }\n",
       "\n",
       "    .dataframe tbody tr th {\n",
       "        vertical-align: top;\n",
       "    }\n",
       "\n",
       "    .dataframe thead th {\n",
       "        text-align: right;\n",
       "    }\n",
       "</style>\n",
       "<table border=\"1\" class=\"dataframe\">\n",
       "  <thead>\n",
       "    <tr style=\"text-align: right;\">\n",
       "      <th></th>\n",
       "      <th>Age</th>\n",
       "      <th>Sex</th>\n",
       "      <th>BP</th>\n",
       "      <th>Cholesterol</th>\n",
       "      <th>Na_to_K</th>\n",
       "      <th>Drug_Type</th>\n",
       "    </tr>\n",
       "  </thead>\n",
       "  <tbody>\n",
       "    <tr>\n",
       "      <th>66</th>\n",
       "      <td>29</td>\n",
       "      <td>M</td>\n",
       "      <td>HIGH</td>\n",
       "      <td>HIGH</td>\n",
       "      <td>12.856</td>\n",
       "      <td>drugA</td>\n",
       "    </tr>\n",
       "    <tr>\n",
       "      <th>10</th>\n",
       "      <td>47</td>\n",
       "      <td>F</td>\n",
       "      <td>LOW</td>\n",
       "      <td>HIGH</td>\n",
       "      <td>11.767</td>\n",
       "      <td>drugC</td>\n",
       "    </tr>\n",
       "    <tr>\n",
       "      <th>170</th>\n",
       "      <td>28</td>\n",
       "      <td>F</td>\n",
       "      <td>NORMAL</td>\n",
       "      <td>HIGH</td>\n",
       "      <td>12.879</td>\n",
       "      <td>drugX</td>\n",
       "    </tr>\n",
       "    <tr>\n",
       "      <th>42</th>\n",
       "      <td>50</td>\n",
       "      <td>M</td>\n",
       "      <td>NORMAL</td>\n",
       "      <td>NORMAL</td>\n",
       "      <td>15.790</td>\n",
       "      <td>DrugY</td>\n",
       "    </tr>\n",
       "    <tr>\n",
       "      <th>51</th>\n",
       "      <td>67</td>\n",
       "      <td>M</td>\n",
       "      <td>NORMAL</td>\n",
       "      <td>NORMAL</td>\n",
       "      <td>10.898</td>\n",
       "      <td>drugX</td>\n",
       "    </tr>\n",
       "  </tbody>\n",
       "</table>\n",
       "</div>"
      ],
      "text/plain": [
       "     Age Sex      BP Cholesterol  Na_to_K Drug_Type\n",
       "66    29   M    HIGH        HIGH   12.856     drugA\n",
       "10    47   F     LOW        HIGH   11.767     drugC\n",
       "170   28   F  NORMAL        HIGH   12.879     drugX\n",
       "42    50   M  NORMAL      NORMAL   15.790     DrugY\n",
       "51    67   M  NORMAL      NORMAL   10.898     drugX"
      ]
     },
     "execution_count": 6,
     "metadata": {},
     "output_type": "execute_result"
    }
   ],
   "source": [
    "df.sample(5)"
   ]
  },
  {
   "cell_type": "code",
   "execution_count": 7,
   "id": "06267598",
   "metadata": {
    "execution": {
     "iopub.execute_input": "2023-01-24T05:00:51.390675Z",
     "iopub.status.busy": "2023-01-24T05:00:51.390239Z",
     "iopub.status.idle": "2023-01-24T05:00:51.396764Z",
     "shell.execute_reply": "2023-01-24T05:00:51.395823Z"
    },
    "papermill": {
     "duration": 0.031721,
     "end_time": "2023-01-24T05:00:51.402950",
     "exception": false,
     "start_time": "2023-01-24T05:00:51.371229",
     "status": "completed"
    },
    "tags": []
   },
   "outputs": [
    {
     "data": {
      "text/plain": [
       "(200, 6)"
      ]
     },
     "execution_count": 7,
     "metadata": {},
     "output_type": "execute_result"
    }
   ],
   "source": [
    "df.shape"
   ]
  },
  {
   "cell_type": "code",
   "execution_count": 8,
   "id": "ef2a99be",
   "metadata": {
    "execution": {
     "iopub.execute_input": "2023-01-24T05:00:51.442846Z",
     "iopub.status.busy": "2023-01-24T05:00:51.442430Z",
     "iopub.status.idle": "2023-01-24T05:00:51.469263Z",
     "shell.execute_reply": "2023-01-24T05:00:51.468182Z"
    },
    "papermill": {
     "duration": 0.05015,
     "end_time": "2023-01-24T05:00:51.472059",
     "exception": false,
     "start_time": "2023-01-24T05:00:51.421909",
     "status": "completed"
    },
    "tags": []
   },
   "outputs": [
    {
     "name": "stdout",
     "output_type": "stream",
     "text": [
      "<class 'pandas.core.frame.DataFrame'>\n",
      "RangeIndex: 200 entries, 0 to 199\n",
      "Data columns (total 6 columns):\n",
      " #   Column       Non-Null Count  Dtype  \n",
      "---  ------       --------------  -----  \n",
      " 0   Age          200 non-null    int64  \n",
      " 1   Sex          200 non-null    object \n",
      " 2   BP           200 non-null    object \n",
      " 3   Cholesterol  200 non-null    object \n",
      " 4   Na_to_K      200 non-null    float64\n",
      " 5   Drug_Type    200 non-null    object \n",
      "dtypes: float64(1), int64(1), object(4)\n",
      "memory usage: 9.5+ KB\n"
     ]
    }
   ],
   "source": [
    "df.info()"
   ]
  },
  {
   "cell_type": "code",
   "execution_count": 9,
   "id": "7054556e",
   "metadata": {
    "execution": {
     "iopub.execute_input": "2023-01-24T05:00:51.512201Z",
     "iopub.status.busy": "2023-01-24T05:00:51.511767Z",
     "iopub.status.idle": "2023-01-24T05:00:51.548816Z",
     "shell.execute_reply": "2023-01-24T05:00:51.547940Z"
    },
    "papermill": {
     "duration": 0.059029,
     "end_time": "2023-01-24T05:00:51.551473",
     "exception": false,
     "start_time": "2023-01-24T05:00:51.492444",
     "status": "completed"
    },
    "tags": []
   },
   "outputs": [
    {
     "data": {
      "text/html": [
       "<div>\n",
       "<style scoped>\n",
       "    .dataframe tbody tr th:only-of-type {\n",
       "        vertical-align: middle;\n",
       "    }\n",
       "\n",
       "    .dataframe tbody tr th {\n",
       "        vertical-align: top;\n",
       "    }\n",
       "\n",
       "    .dataframe thead th {\n",
       "        text-align: right;\n",
       "    }\n",
       "</style>\n",
       "<table border=\"1\" class=\"dataframe\">\n",
       "  <thead>\n",
       "    <tr style=\"text-align: right;\">\n",
       "      <th></th>\n",
       "      <th>count</th>\n",
       "      <th>unique</th>\n",
       "      <th>top</th>\n",
       "      <th>freq</th>\n",
       "      <th>mean</th>\n",
       "      <th>std</th>\n",
       "      <th>min</th>\n",
       "      <th>25%</th>\n",
       "      <th>50%</th>\n",
       "      <th>75%</th>\n",
       "      <th>max</th>\n",
       "    </tr>\n",
       "  </thead>\n",
       "  <tbody>\n",
       "    <tr>\n",
       "      <th>Age</th>\n",
       "      <td>200.0</td>\n",
       "      <td>NaN</td>\n",
       "      <td>NaN</td>\n",
       "      <td>NaN</td>\n",
       "      <td>44.315</td>\n",
       "      <td>16.544315</td>\n",
       "      <td>15.0</td>\n",
       "      <td>31.0</td>\n",
       "      <td>45.0</td>\n",
       "      <td>58.0</td>\n",
       "      <td>74.0</td>\n",
       "    </tr>\n",
       "    <tr>\n",
       "      <th>Sex</th>\n",
       "      <td>200</td>\n",
       "      <td>2</td>\n",
       "      <td>M</td>\n",
       "      <td>104</td>\n",
       "      <td>NaN</td>\n",
       "      <td>NaN</td>\n",
       "      <td>NaN</td>\n",
       "      <td>NaN</td>\n",
       "      <td>NaN</td>\n",
       "      <td>NaN</td>\n",
       "      <td>NaN</td>\n",
       "    </tr>\n",
       "    <tr>\n",
       "      <th>BP</th>\n",
       "      <td>200</td>\n",
       "      <td>3</td>\n",
       "      <td>HIGH</td>\n",
       "      <td>77</td>\n",
       "      <td>NaN</td>\n",
       "      <td>NaN</td>\n",
       "      <td>NaN</td>\n",
       "      <td>NaN</td>\n",
       "      <td>NaN</td>\n",
       "      <td>NaN</td>\n",
       "      <td>NaN</td>\n",
       "    </tr>\n",
       "    <tr>\n",
       "      <th>Cholesterol</th>\n",
       "      <td>200</td>\n",
       "      <td>2</td>\n",
       "      <td>HIGH</td>\n",
       "      <td>103</td>\n",
       "      <td>NaN</td>\n",
       "      <td>NaN</td>\n",
       "      <td>NaN</td>\n",
       "      <td>NaN</td>\n",
       "      <td>NaN</td>\n",
       "      <td>NaN</td>\n",
       "      <td>NaN</td>\n",
       "    </tr>\n",
       "    <tr>\n",
       "      <th>Na_to_K</th>\n",
       "      <td>200.0</td>\n",
       "      <td>NaN</td>\n",
       "      <td>NaN</td>\n",
       "      <td>NaN</td>\n",
       "      <td>16.084485</td>\n",
       "      <td>7.223956</td>\n",
       "      <td>6.269</td>\n",
       "      <td>10.4455</td>\n",
       "      <td>13.9365</td>\n",
       "      <td>19.38</td>\n",
       "      <td>38.247</td>\n",
       "    </tr>\n",
       "    <tr>\n",
       "      <th>Drug_Type</th>\n",
       "      <td>200</td>\n",
       "      <td>5</td>\n",
       "      <td>DrugY</td>\n",
       "      <td>91</td>\n",
       "      <td>NaN</td>\n",
       "      <td>NaN</td>\n",
       "      <td>NaN</td>\n",
       "      <td>NaN</td>\n",
       "      <td>NaN</td>\n",
       "      <td>NaN</td>\n",
       "      <td>NaN</td>\n",
       "    </tr>\n",
       "  </tbody>\n",
       "</table>\n",
       "</div>"
      ],
      "text/plain": [
       "             count unique    top freq       mean        std    min      25%  \\\n",
       "Age          200.0    NaN    NaN  NaN     44.315  16.544315   15.0     31.0   \n",
       "Sex            200      2      M  104        NaN        NaN    NaN      NaN   \n",
       "BP             200      3   HIGH   77        NaN        NaN    NaN      NaN   \n",
       "Cholesterol    200      2   HIGH  103        NaN        NaN    NaN      NaN   \n",
       "Na_to_K      200.0    NaN    NaN  NaN  16.084485   7.223956  6.269  10.4455   \n",
       "Drug_Type      200      5  DrugY   91        NaN        NaN    NaN      NaN   \n",
       "\n",
       "                 50%    75%     max  \n",
       "Age             45.0   58.0    74.0  \n",
       "Sex              NaN    NaN     NaN  \n",
       "BP               NaN    NaN     NaN  \n",
       "Cholesterol      NaN    NaN     NaN  \n",
       "Na_to_K      13.9365  19.38  38.247  \n",
       "Drug_Type        NaN    NaN     NaN  "
      ]
     },
     "execution_count": 9,
     "metadata": {},
     "output_type": "execute_result"
    }
   ],
   "source": [
    "df.describe(include='all').T"
   ]
  },
  {
   "cell_type": "code",
   "execution_count": 10,
   "id": "f1889ccf",
   "metadata": {
    "execution": {
     "iopub.execute_input": "2023-01-24T05:00:51.588089Z",
     "iopub.status.busy": "2023-01-24T05:00:51.587590Z",
     "iopub.status.idle": "2023-01-24T05:00:51.600667Z",
     "shell.execute_reply": "2023-01-24T05:00:51.599753Z"
    },
    "papermill": {
     "duration": 0.033666,
     "end_time": "2023-01-24T05:00:51.603307",
     "exception": false,
     "start_time": "2023-01-24T05:00:51.569641",
     "status": "completed"
    },
    "tags": []
   },
   "outputs": [
    {
     "data": {
      "text/plain": [
       "Age            0.0\n",
       "Sex            0.0\n",
       "BP             0.0\n",
       "Cholesterol    0.0\n",
       "Na_to_K        0.0\n",
       "Drug_Type      0.0\n",
       "dtype: float64"
      ]
     },
     "execution_count": 10,
     "metadata": {},
     "output_type": "execute_result"
    }
   ],
   "source": [
    "df.isnull().mean()*100"
   ]
  },
  {
   "cell_type": "code",
   "execution_count": 11,
   "id": "70ec10a7",
   "metadata": {
    "execution": {
     "iopub.execute_input": "2023-01-24T05:00:51.639544Z",
     "iopub.status.busy": "2023-01-24T05:00:51.639157Z",
     "iopub.status.idle": "2023-01-24T05:00:51.869442Z",
     "shell.execute_reply": "2023-01-24T05:00:51.868751Z"
    },
    "papermill": {
     "duration": 0.250541,
     "end_time": "2023-01-24T05:00:51.871380",
     "exception": false,
     "start_time": "2023-01-24T05:00:51.620839",
     "status": "completed"
    },
    "tags": []
   },
   "outputs": [
    {
     "data": {
      "text/plain": [
       "<AxesSubplot:xlabel='Cholesterol', ylabel='count'>"
      ]
     },
     "execution_count": 11,
     "metadata": {},
     "output_type": "execute_result"
    },
    {
     "data": {
      "image/png": "[encoded data removed]",
      "text/plain": [
       "<Figure size 432x288 with 1 Axes>"
      ]
     },
     "metadata": {
      "needs_background": "light"
     },
     "output_type": "display_data"
    }
   ],
   "source": [
    "sns.countplot(x=df['Cholesterol'])"
   ]
  },
  {
   "cell_type": "code",
   "execution_count": 12,
   "id": "e9d81a8e",
   "metadata": {
    "execution": {
     "iopub.execute_input": "2023-01-24T05:00:51.925708Z",
     "iopub.status.busy": "2023-01-24T05:00:51.923830Z",
     "iopub.status.idle": "2023-01-24T05:00:52.167054Z",
     "shell.execute_reply": "2023-01-24T05:00:52.165952Z"
    },
    "papermill": {
     "duration": 0.274858,
     "end_time": "2023-01-24T05:00:52.169691",
     "exception": false,
     "start_time": "2023-01-24T05:00:51.894833",
     "status": "completed"
    },
    "tags": []
   },
   "outputs": [
    {
     "data": {
      "text/plain": [
       "<AxesSubplot:xlabel='Sex', ylabel='count'>"
      ]
     },
     "execution_count": 12,
     "metadata": {},
     "output_type": "execute_result"
    },
    {
     "data": {
      "image/png": "[encoded data removed]",
      "text/plain": [
       "<Figure size 432x288 with 1 Axes>"
      ]
     },
     "metadata": {
      "needs_background": "light"
     },
     "output_type": "display_data"
    }
   ],
   "source": [
    "sns.countplot(x=df['Sex'])"
   ]
  },
  {
   "cell_type": "code",
   "execution_count": 13,
   "id": "6d888da8",
   "metadata": {
    "execution": {
     "iopub.execute_input": "2023-01-24T05:00:52.204424Z",
     "iopub.status.busy": "2023-01-24T05:00:52.204003Z",
     "iopub.status.idle": "2023-01-24T05:00:52.414149Z",
     "shell.execute_reply": "2023-01-24T05:00:52.413229Z"
    },
    "papermill": {
     "duration": 0.230193,
     "end_time": "2023-01-24T05:00:52.416572",
     "exception": false,
     "start_time": "2023-01-24T05:00:52.186379",
     "status": "completed"
    },
    "tags": []
   },
   "outputs": [
    {
     "data": {
      "text/plain": [
       "<AxesSubplot:xlabel='Drug_Type', ylabel='count'>"
      ]
     },
     "execution_count": 13,
     "metadata": {},
     "output_type": "execute_result"
    },
    {
     "data": {
      "image/png": "[encoded data removed]",
      "text/plain": [
       "<Figure size 432x288 with 1 Axes>"
      ]
     },
     "metadata": {
      "needs_background": "light"
     },
     "output_type": "display_data"
    }
   ],
   "source": [
    "sns.countplot(x=df['Drug_Type'])"
   ]
  },
  {
   "cell_type": "markdown",
   "id": "f213ba59",
   "metadata": {
    "papermill": {
     "duration": 0.016344,
     "end_time": "2023-01-24T05:00:52.449850",
     "exception": false,
     "start_time": "2023-01-24T05:00:52.433506",
     "status": "completed"
    },
    "tags": []
   },
   "source": [
    "As the Data looks slightly imbalanced going into further investigation "
   ]
  },
  {
   "cell_type": "code",
   "execution_count": 14,
   "id": "3d437ea2",
   "metadata": {
    "execution": {
     "iopub.execute_input": "2023-01-24T05:00:52.485389Z",
     "iopub.status.busy": "2023-01-24T05:00:52.484923Z",
     "iopub.status.idle": "2023-01-24T05:00:52.500120Z",
     "shell.execute_reply": "2023-01-24T05:00:52.499086Z"
    },
    "papermill": {
     "duration": 0.037139,
     "end_time": "2023-01-24T05:00:52.503347",
     "exception": false,
     "start_time": "2023-01-24T05:00:52.466208",
     "status": "completed"
    },
    "tags": []
   },
   "outputs": [
    {
     "data": {
      "text/plain": [
       "DrugY    0.455\n",
       "drugX    0.270\n",
       "drugA    0.115\n",
       "drugC    0.080\n",
       "drugB    0.080\n",
       "Name: Drug_Type, dtype: float64"
      ]
     },
     "execution_count": 14,
     "metadata": {},
     "output_type": "execute_result"
    }
   ],
   "source": [
    "df['Drug_Type'].value_counts(normalize=True)"
   ]
  },
  {
   "cell_type": "markdown",
   "id": "3b5c0ce7",
   "metadata": {
    "papermill": {
     "duration": 0.018203,
     "end_time": "2023-01-24T05:00:52.540678",
     "exception": false,
     "start_time": "2023-01-24T05:00:52.522475",
     "status": "completed"
    },
    "tags": []
   },
   "source": [
    "SMOTE will be Required"
   ]
  },
  {
   "cell_type": "code",
   "execution_count": 15,
   "id": "c5e00ac9",
   "metadata": {
    "execution": {
     "iopub.execute_input": "2023-01-24T05:00:52.589460Z",
     "iopub.status.busy": "2023-01-24T05:00:52.588928Z",
     "iopub.status.idle": "2023-01-24T05:00:52.837525Z",
     "shell.execute_reply": "2023-01-24T05:00:52.836622Z"
    },
    "papermill": {
     "duration": 0.278212,
     "end_time": "2023-01-24T05:00:52.839622",
     "exception": false,
     "start_time": "2023-01-24T05:00:52.561410",
     "status": "completed"
    },
    "tags": []
   },
   "outputs": [
    {
     "data": {
      "image/png": "[encoded data removed]",
      "text/plain": [
       "<Figure size 432x288 with 1 Axes>"
      ]
     },
     "metadata": {},
     "output_type": "display_data"
    }
   ],
   "source": [
    "sns.set(style=\"whitegrid\")\n",
    "ax = sns.stripplot(x=\"Drug_Type\", y=\"Age\", data=df)"
   ]
  },
  {
   "cell_type": "code",
   "execution_count": 16,
   "id": "9b6f01dd",
   "metadata": {
    "execution": {
     "iopub.execute_input": "2023-01-24T05:00:52.865150Z",
     "iopub.status.busy": "2023-01-24T05:00:52.864830Z",
     "iopub.status.idle": "2023-01-24T05:00:53.058510Z",
     "shell.execute_reply": "2023-01-24T05:00:53.057579Z"
    },
    "papermill": {
     "duration": 0.208912,
     "end_time": "2023-01-24T05:00:53.060652",
     "exception": false,
     "start_time": "2023-01-24T05:00:52.851740",
     "status": "completed"
    },
    "tags": []
   },
   "outputs": [
    {
     "data": {
      "image/png": "[encoded data removed]",
      "text/plain": [
       "<Figure size 432x288 with 1 Axes>"
      ]
     },
     "metadata": {},
     "output_type": "display_data"
    }
   ],
   "source": [
    "sns.set(style=\"whitegrid\")\n",
    "ax = sns.stripplot(x='Cholesterol', y=\"Age\", data=df)"
   ]
  },
  {
   "cell_type": "code",
   "execution_count": 17,
   "id": "0763442b",
   "metadata": {
    "execution": {
     "iopub.execute_input": "2023-01-24T05:00:53.088205Z",
     "iopub.status.busy": "2023-01-24T05:00:53.086362Z",
     "iopub.status.idle": "2023-01-24T05:00:53.093693Z",
     "shell.execute_reply": "2023-01-24T05:00:53.092685Z"
    },
    "papermill": {
     "duration": 0.022622,
     "end_time": "2023-01-24T05:00:53.095690",
     "exception": false,
     "start_time": "2023-01-24T05:00:53.073068",
     "status": "completed"
    },
    "tags": []
   },
   "outputs": [
    {
     "name": "stdout",
     "output_type": "stream",
     "text": [
      "['Age', 'Na_to_K']\n"
     ]
    }
   ],
   "source": [
    "num_cols=[feature for feature in df.columns if df[feature].dtype!='O']\n",
    "print(num_cols)"
   ]
  },
  {
   "cell_type": "code",
   "execution_count": 18,
   "id": "9ed934c2",
   "metadata": {
    "execution": {
     "iopub.execute_input": "2023-01-24T05:00:53.121169Z",
     "iopub.status.busy": "2023-01-24T05:00:53.120864Z",
     "iopub.status.idle": "2023-01-24T05:00:53.127888Z",
     "shell.execute_reply": "2023-01-24T05:00:53.126722Z"
    },
    "papermill": {
     "duration": 0.021754,
     "end_time": "2023-01-24T05:00:53.129862",
     "exception": false,
     "start_time": "2023-01-24T05:00:53.108108",
     "status": "completed"
    },
    "tags": []
   },
   "outputs": [],
   "source": [
    "import scipy.stats as stats\n",
    "def diagnostic_plot(data, col):\n",
    "    fig = plt.figure(figsize=(20, 5))\n",
    "    fig.subplots_adjust(right=1.5)\n",
    "    \n",
    "    plt.subplot(1, 3, 1)\n",
    "    sns.distplot(data[col], kde=True, color='pink')\n",
    "    plt.title('Histogram')\n",
    "    \n",
    "    plt.subplot(1, 3, 2)\n",
    "    stats.probplot(data[col], dist='norm', fit=True, plot=plt)\n",
    "    plt.title('Q-Q Plot')\n",
    "    \n",
    "    plt.subplot(1, 3, 3)\n",
    "    sns.boxplot(data[col],color='pink')\n",
    "    plt.title('Box Plot')\n",
    "    \n",
    "    plt.show()"
   ]
  },
  {
   "cell_type": "code",
   "execution_count": 19,
   "id": "86f7b1a8",
   "metadata": {
    "execution": {
     "iopub.execute_input": "2023-01-24T05:00:53.155779Z",
     "iopub.status.busy": "2023-01-24T05:00:53.155482Z",
     "iopub.status.idle": "2023-01-24T05:00:54.239137Z",
     "shell.execute_reply": "2023-01-24T05:00:54.238211Z"
    },
    "papermill": {
     "duration": 1.099365,
     "end_time": "2023-01-24T05:00:54.241358",
     "exception": false,
     "start_time": "2023-01-24T05:00:53.141993",
     "status": "completed"
    },
    "tags": []
   },
   "outputs": [
    {
     "data": {
      "image/png": "[encoded data removed]",
      "text/plain": [
       "<Figure size 1440x360 with 3 Axes>"
      ]
     },
     "metadata": {},
     "output_type": "display_data"
    },
    {
     "data": {
      "image/png": "[encoded data removed]",
      "text/plain": [
       "<Figure size 1440x360 with 3 Axes>"
      ]
     },
     "metadata": {},
     "output_type": "display_data"
    }
   ],
   "source": [
    "for col in num_cols:\n",
    "    diagnostic_plot(df, col)"
   ]
  },
  {
   "cell_type": "code",
   "execution_count": 20,
   "id": "8d255296",
   "metadata": {
    "execution": {
     "iopub.execute_input": "2023-01-24T05:00:54.270489Z",
     "iopub.status.busy": "2023-01-24T05:00:54.270151Z",
     "iopub.status.idle": "2023-01-24T05:00:54.275693Z",
     "shell.execute_reply": "2023-01-24T05:00:54.274723Z"
    },
    "papermill": {
     "duration": 0.022892,
     "end_time": "2023-01-24T05:00:54.278286",
     "exception": false,
     "start_time": "2023-01-24T05:00:54.255394",
     "status": "completed"
    },
    "tags": []
   },
   "outputs": [
    {
     "name": "stdout",
     "output_type": "stream",
     "text": [
      "['Sex', 'BP', 'Cholesterol', 'Drug_Type']\n"
     ]
    }
   ],
   "source": [
    "cat_cols=[feature for feature in df.columns if df[feature].dtype=='O']\n",
    "print(cat_cols)"
   ]
  },
  {
   "cell_type": "code",
   "execution_count": 21,
   "id": "1e296488",
   "metadata": {
    "execution": {
     "iopub.execute_input": "2023-01-24T05:00:54.308136Z",
     "iopub.status.busy": "2023-01-24T05:00:54.307164Z",
     "iopub.status.idle": "2023-01-24T05:00:54.312053Z",
     "shell.execute_reply": "2023-01-24T05:00:54.311120Z"
    },
    "papermill": {
     "duration": 0.021306,
     "end_time": "2023-01-24T05:00:54.313970",
     "exception": false,
     "start_time": "2023-01-24T05:00:54.292664",
     "status": "completed"
    },
    "tags": []
   },
   "outputs": [],
   "source": [
    "from sklearn.preprocessing import LabelEncoder\n",
    "labelencoder=LabelEncoder()"
   ]
  },
  {
   "cell_type": "code",
   "execution_count": 22,
   "id": "b878c77f",
   "metadata": {
    "execution": {
     "iopub.execute_input": "2023-01-24T05:00:54.342499Z",
     "iopub.status.busy": "2023-01-24T05:00:54.342169Z",
     "iopub.status.idle": "2023-01-24T05:00:54.349732Z",
     "shell.execute_reply": "2023-01-24T05:00:54.347993Z"
    },
    "papermill": {
     "duration": 0.024011,
     "end_time": "2023-01-24T05:00:54.351707",
     "exception": false,
     "start_time": "2023-01-24T05:00:54.327696",
     "status": "completed"
    },
    "tags": []
   },
   "outputs": [],
   "source": [
    "for feature in cat_cols:\n",
    "    df[feature]=labelencoder.fit_transform(df[feature])"
   ]
  },
  {
   "cell_type": "code",
   "execution_count": 23,
   "id": "ab63ead1",
   "metadata": {
    "execution": {
     "iopub.execute_input": "2023-01-24T05:00:54.380285Z",
     "iopub.status.busy": "2023-01-24T05:00:54.379457Z",
     "iopub.status.idle": "2023-01-24T05:00:54.397420Z",
     "shell.execute_reply": "2023-01-24T05:00:54.396436Z"
    },
    "papermill": {
     "duration": 0.03532,
     "end_time": "2023-01-24T05:00:54.400399",
     "exception": false,
     "start_time": "2023-01-24T05:00:54.365079",
     "status": "completed"
    },
    "tags": []
   },
   "outputs": [
    {
     "data": {
      "text/html": [
       "<div>\n",
       "<style scoped>\n",
       "    .dataframe tbody tr th:only-of-type {\n",
       "        vertical-align: middle;\n",
       "    }\n",
       "\n",
       "    .dataframe tbody tr th {\n",
       "        vertical-align: top;\n",
       "    }\n",
       "\n",
       "    .dataframe thead th {\n",
       "        text-align: right;\n",
       "    }\n",
       "</style>\n",
       "<table border=\"1\" class=\"dataframe\">\n",
       "  <thead>\n",
       "    <tr style=\"text-align: right;\">\n",
       "      <th></th>\n",
       "      <th>Age</th>\n",
       "      <th>Sex</th>\n",
       "      <th>BP</th>\n",
       "      <th>Cholesterol</th>\n",
       "      <th>Na_to_K</th>\n",
       "      <th>Drug_Type</th>\n",
       "    </tr>\n",
       "  </thead>\n",
       "  <tbody>\n",
       "    <tr>\n",
       "      <th>0</th>\n",
       "      <td>0.135593</td>\n",
       "      <td>0.0</td>\n",
       "      <td>0.0</td>\n",
       "      <td>0.0</td>\n",
       "      <td>0.596848</td>\n",
       "      <td>0.00</td>\n",
       "    </tr>\n",
       "    <tr>\n",
       "      <th>1</th>\n",
       "      <td>0.542373</td>\n",
       "      <td>1.0</td>\n",
       "      <td>0.5</td>\n",
       "      <td>0.0</td>\n",
       "      <td>0.213397</td>\n",
       "      <td>0.75</td>\n",
       "    </tr>\n",
       "    <tr>\n",
       "      <th>2</th>\n",
       "      <td>0.542373</td>\n",
       "      <td>1.0</td>\n",
       "      <td>0.5</td>\n",
       "      <td>0.0</td>\n",
       "      <td>0.120239</td>\n",
       "      <td>0.75</td>\n",
       "    </tr>\n",
       "    <tr>\n",
       "      <th>3</th>\n",
       "      <td>0.220339</td>\n",
       "      <td>0.0</td>\n",
       "      <td>1.0</td>\n",
       "      <td>0.0</td>\n",
       "      <td>0.047814</td>\n",
       "      <td>1.00</td>\n",
       "    </tr>\n",
       "    <tr>\n",
       "      <th>4</th>\n",
       "      <td>0.779661</td>\n",
       "      <td>0.0</td>\n",
       "      <td>0.5</td>\n",
       "      <td>0.0</td>\n",
       "      <td>0.368191</td>\n",
       "      <td>0.00</td>\n",
       "    </tr>\n",
       "  </tbody>\n",
       "</table>\n",
       "</div>"
      ],
      "text/plain": [
       "        Age  Sex   BP  Cholesterol   Na_to_K  Drug_Type\n",
       "0  0.135593  0.0  0.0          0.0  0.596848       0.00\n",
       "1  0.542373  1.0  0.5          0.0  0.213397       0.75\n",
       "2  0.542373  1.0  0.5          0.0  0.120239       0.75\n",
       "3  0.220339  0.0  1.0          0.0  0.047814       1.00\n",
       "4  0.779661  0.0  0.5          0.0  0.368191       0.00"
      ]
     },
     "execution_count": 23,
     "metadata": {},
     "output_type": "execute_result"
    }
   ],
   "source": [
    "from sklearn.preprocessing import MinMaxScaler\n",
    "min_max=MinMaxScaler()\n",
    "df_scaled=pd.DataFrame(min_max.fit_transform(df),columns=df.columns)\n",
    "df_scaled.head()"
   ]
  },
  {
   "cell_type": "code",
   "execution_count": 24,
   "id": "051d75e4",
   "metadata": {
    "execution": {
     "iopub.execute_input": "2023-01-24T05:00:54.461206Z",
     "iopub.status.busy": "2023-01-24T05:00:54.460833Z",
     "iopub.status.idle": "2023-01-24T05:00:54.465848Z",
     "shell.execute_reply": "2023-01-24T05:00:54.464851Z"
    },
    "papermill": {
     "duration": 0.022125,
     "end_time": "2023-01-24T05:00:54.468098",
     "exception": false,
     "start_time": "2023-01-24T05:00:54.445973",
     "status": "completed"
    },
    "tags": []
   },
   "outputs": [],
   "source": [
    "x=df.iloc[:,:-1]"
   ]
  },
  {
   "cell_type": "code",
   "execution_count": 25,
   "id": "84d35937",
   "metadata": {
    "execution": {
     "iopub.execute_input": "2023-01-24T05:00:54.497224Z",
     "iopub.status.busy": "2023-01-24T05:00:54.496429Z",
     "iopub.status.idle": "2023-01-24T05:00:54.501655Z",
     "shell.execute_reply": "2023-01-24T05:00:54.500826Z"
    },
    "papermill": {
     "duration": 0.022135,
     "end_time": "2023-01-24T05:00:54.503733",
     "exception": false,
     "start_time": "2023-01-24T05:00:54.481598",
     "status": "completed"
    },
    "tags": []
   },
   "outputs": [],
   "source": [
    "y=df.iloc[:,5]"
   ]
  },
  {
   "cell_type": "code",
   "execution_count": 26,
   "id": "0d45056f",
   "metadata": {
    "execution": {
     "iopub.execute_input": "2023-01-24T05:00:54.533720Z",
     "iopub.status.busy": "2023-01-24T05:00:54.532922Z",
     "iopub.status.idle": "2023-01-24T05:00:54.547392Z",
     "shell.execute_reply": "2023-01-24T05:00:54.546200Z"
    },
    "papermill": {
     "duration": 0.031629,
     "end_time": "2023-01-24T05:00:54.549768",
     "exception": false,
     "start_time": "2023-01-24T05:00:54.518139",
     "status": "completed"
    },
    "tags": []
   },
   "outputs": [
    {
     "data": {
      "text/html": [
       "<div>\n",
       "<style scoped>\n",
       "    .dataframe tbody tr th:only-of-type {\n",
       "        vertical-align: middle;\n",
       "    }\n",
       "\n",
       "    .dataframe tbody tr th {\n",
       "        vertical-align: top;\n",
       "    }\n",
       "\n",
       "    .dataframe thead th {\n",
       "        text-align: right;\n",
       "    }\n",
       "</style>\n",
       "<table border=\"1\" class=\"dataframe\">\n",
       "  <thead>\n",
       "    <tr style=\"text-align: right;\">\n",
       "      <th></th>\n",
       "      <th>Age</th>\n",
       "      <th>Sex</th>\n",
       "      <th>BP</th>\n",
       "      <th>Cholesterol</th>\n",
       "      <th>Na_to_K</th>\n",
       "    </tr>\n",
       "  </thead>\n",
       "  <tbody>\n",
       "    <tr>\n",
       "      <th>0</th>\n",
       "      <td>23</td>\n",
       "      <td>0</td>\n",
       "      <td>0</td>\n",
       "      <td>0</td>\n",
       "      <td>25.355</td>\n",
       "    </tr>\n",
       "    <tr>\n",
       "      <th>1</th>\n",
       "      <td>47</td>\n",
       "      <td>1</td>\n",
       "      <td>1</td>\n",
       "      <td>0</td>\n",
       "      <td>13.093</td>\n",
       "    </tr>\n",
       "    <tr>\n",
       "      <th>2</th>\n",
       "      <td>47</td>\n",
       "      <td>1</td>\n",
       "      <td>1</td>\n",
       "      <td>0</td>\n",
       "      <td>10.114</td>\n",
       "    </tr>\n",
       "    <tr>\n",
       "      <th>3</th>\n",
       "      <td>28</td>\n",
       "      <td>0</td>\n",
       "      <td>2</td>\n",
       "      <td>0</td>\n",
       "      <td>7.798</td>\n",
       "    </tr>\n",
       "    <tr>\n",
       "      <th>4</th>\n",
       "      <td>61</td>\n",
       "      <td>0</td>\n",
       "      <td>1</td>\n",
       "      <td>0</td>\n",
       "      <td>18.043</td>\n",
       "    </tr>\n",
       "    <tr>\n",
       "      <th>...</th>\n",
       "      <td>...</td>\n",
       "      <td>...</td>\n",
       "      <td>...</td>\n",
       "      <td>...</td>\n",
       "      <td>...</td>\n",
       "    </tr>\n",
       "    <tr>\n",
       "      <th>195</th>\n",
       "      <td>56</td>\n",
       "      <td>0</td>\n",
       "      <td>1</td>\n",
       "      <td>0</td>\n",
       "      <td>11.567</td>\n",
       "    </tr>\n",
       "    <tr>\n",
       "      <th>196</th>\n",
       "      <td>16</td>\n",
       "      <td>1</td>\n",
       "      <td>1</td>\n",
       "      <td>0</td>\n",
       "      <td>12.006</td>\n",
       "    </tr>\n",
       "    <tr>\n",
       "      <th>197</th>\n",
       "      <td>52</td>\n",
       "      <td>1</td>\n",
       "      <td>2</td>\n",
       "      <td>0</td>\n",
       "      <td>9.894</td>\n",
       "    </tr>\n",
       "    <tr>\n",
       "      <th>198</th>\n",
       "      <td>23</td>\n",
       "      <td>1</td>\n",
       "      <td>2</td>\n",
       "      <td>1</td>\n",
       "      <td>14.020</td>\n",
       "    </tr>\n",
       "    <tr>\n",
       "      <th>199</th>\n",
       "      <td>40</td>\n",
       "      <td>0</td>\n",
       "      <td>1</td>\n",
       "      <td>1</td>\n",
       "      <td>11.349</td>\n",
       "    </tr>\n",
       "  </tbody>\n",
       "</table>\n",
       "<p>200 rows × 5 columns</p>\n",
       "</div>"
      ],
      "text/plain": [
       "     Age  Sex  BP  Cholesterol  Na_to_K\n",
       "0     23    0   0            0   25.355\n",
       "1     47    1   1            0   13.093\n",
       "2     47    1   1            0   10.114\n",
       "3     28    0   2            0    7.798\n",
       "4     61    0   1            0   18.043\n",
       "..   ...  ...  ..          ...      ...\n",
       "195   56    0   1            0   11.567\n",
       "196   16    1   1            0   12.006\n",
       "197   52    1   2            0    9.894\n",
       "198   23    1   2            1   14.020\n",
       "199   40    0   1            1   11.349\n",
       "\n",
       "[200 rows x 5 columns]"
      ]
     },
     "execution_count": 26,
     "metadata": {},
     "output_type": "execute_result"
    }
   ],
   "source": [
    "x"
   ]
  },
  {
   "cell_type": "code",
   "execution_count": 27,
   "id": "a520dc27",
   "metadata": {
    "execution": {
     "iopub.execute_input": "2023-01-24T05:00:54.579278Z",
     "iopub.status.busy": "2023-01-24T05:00:54.578951Z",
     "iopub.status.idle": "2023-01-24T05:00:54.586683Z",
     "shell.execute_reply": "2023-01-24T05:00:54.585602Z"
    },
    "papermill": {
     "duration": 0.024975,
     "end_time": "2023-01-24T05:00:54.589026",
     "exception": false,
     "start_time": "2023-01-24T05:00:54.564051",
     "status": "completed"
    },
    "tags": []
   },
   "outputs": [
    {
     "data": {
      "text/plain": [
       "0      0\n",
       "1      3\n",
       "2      3\n",
       "3      4\n",
       "4      0\n",
       "      ..\n",
       "195    3\n",
       "196    3\n",
       "197    4\n",
       "198    4\n",
       "199    4\n",
       "Name: Drug_Type, Length: 200, dtype: int64"
      ]
     },
     "execution_count": 27,
     "metadata": {},
     "output_type": "execute_result"
    }
   ],
   "source": [
    "y"
   ]
  },
  {
   "cell_type": "code",
   "execution_count": 28,
   "id": "558e196c",
   "metadata": {
    "execution": {
     "iopub.execute_input": "2023-01-24T05:00:54.618170Z",
     "iopub.status.busy": "2023-01-24T05:00:54.617866Z",
     "iopub.status.idle": "2023-01-24T05:00:54.624372Z",
     "shell.execute_reply": "2023-01-24T05:00:54.623538Z"
    },
    "papermill": {
     "duration": 0.023526,
     "end_time": "2023-01-24T05:00:54.626403",
     "exception": false,
     "start_time": "2023-01-24T05:00:54.602877",
     "status": "completed"
    },
    "tags": []
   },
   "outputs": [],
   "source": [
    "from sklearn.model_selection import train_test_split\n",
    "x_train,x_test,y_train,y_test=train_test_split(x,y,test_size=0.25,random_state=0)"
   ]
  },
  {
   "cell_type": "code",
   "execution_count": 29,
   "id": "40e5624f",
   "metadata": {
    "execution": {
     "iopub.execute_input": "2023-01-24T05:00:54.656569Z",
     "iopub.status.busy": "2023-01-24T05:00:54.656253Z",
     "iopub.status.idle": "2023-01-24T05:00:54.661954Z",
     "shell.execute_reply": "2023-01-24T05:00:54.661009Z"
    },
    "papermill": {
     "duration": 0.023377,
     "end_time": "2023-01-24T05:00:54.664249",
     "exception": false,
     "start_time": "2023-01-24T05:00:54.640872",
     "status": "completed"
    },
    "tags": []
   },
   "outputs": [
    {
     "name": "stdout",
     "output_type": "stream",
     "text": [
      "X_train: (150, 5)\n",
      "X_test: (50, 5)\n",
      "Y_train: (150,)\n",
      "Y_test: (50,)\n"
     ]
    }
   ],
   "source": [
    "print(\"X_train:\",x_train.shape)\n",
    "print(\"X_test:\",x_test.shape)\n",
    "print(\"Y_train:\",y_train.shape)\n",
    "print(\"Y_test:\",y_test.shape)"
   ]
  },
  {
   "cell_type": "markdown",
   "id": "8e983966",
   "metadata": {
    "papermill": {
     "duration": 0.014296,
     "end_time": "2023-01-24T05:00:58.503105",
     "exception": false,
     "start_time": "2023-01-24T05:00:58.488809",
     "status": "completed"
    },
    "tags": []
   },
   "source": [
    "## Use of Neural Network for Classification"
   ]
  },
  {
   "cell_type": "code",
   "execution_count": 41,
   "id": "fb462315",
   "metadata": {
    "execution": {
     "iopub.execute_input": "2023-01-24T05:00:58.534792Z",
     "iopub.status.busy": "2023-01-24T05:00:58.534167Z",
     "iopub.status.idle": "2023-01-24T05:01:03.225775Z",
     "shell.execute_reply": "2023-01-24T05:01:03.224723Z"
    },
    "papermill": {
     "duration": 4.710823,
     "end_time": "2023-01-24T05:01:03.228800",
     "exception": false,
     "start_time": "2023-01-24T05:00:58.517977",
     "status": "completed"
    },
    "tags": []
   },
   "outputs": [],
   "source": [
    "from keras.models import Sequential\n",
    "from keras.layers import Dense"
   ]
  },
  {
   "cell_type": "code",
   "execution_count": 42,
   "id": "aae2fc8b",
   "metadata": {
    "execution": {
     "iopub.execute_input": "2023-01-24T05:01:03.275243Z",
     "iopub.status.busy": "2023-01-24T05:01:03.274332Z",
     "iopub.status.idle": "2023-01-24T05:01:06.564256Z",
     "shell.execute_reply": "2023-01-24T05:01:06.563085Z"
    },
    "papermill": {
     "duration": 3.315864,
     "end_time": "2023-01-24T05:01:06.567228",
     "exception": false,
     "start_time": "2023-01-24T05:01:03.251364",
     "status": "completed"
    },
    "tags": []
   },
   "outputs": [
    {
     "name": "stderr",
     "output_type": "stream",
     "text": [
      "2023-01-24 05:01:03.427836: I tensorflow/stream_executor/cuda/cuda_gpu_executor.cc:937] successful NUMA node read from SysFS had negative value (-1), but there must be at least one NUMA node, so returning NUMA node zero\n",
      "2023-01-24 05:01:03.428782: I tensorflow/stream_executor/cuda/cuda_gpu_executor.cc:937] successful NUMA node read from SysFS had negative value (-1), but there must be at least one NUMA node, so returning NUMA node zero\n",
      "2023-01-24 05:01:03.524306: I tensorflow/stream_executor/cuda/cuda_gpu_executor.cc:937] successful NUMA node read from SysFS had negative value (-1), but there must be at least one NUMA node, so returning NUMA node zero\n",
      "2023-01-24 05:01:03.525180: I tensorflow/stream_executor/cuda/cuda_gpu_executor.cc:937] successful NUMA node read from SysFS had negative value (-1), but there must be at least one NUMA node, so returning NUMA node zero\n",
      "2023-01-24 05:01:03.525890: I tensorflow/stream_executor/cuda/cuda_gpu_executor.cc:937] successful NUMA node read from SysFS had negative value (-1), but there must be at least one NUMA node, so returning NUMA node zero\n",
      "2023-01-24 05:01:03.526620: I tensorflow/stream_executor/cuda/cuda_gpu_executor.cc:937] successful NUMA node read from SysFS had negative value (-1), but there must be at least one NUMA node, so returning NUMA node zero\n",
      "2023-01-24 05:01:03.528887: I tensorflow/core/platform/cpu_feature_guard.cc:142] This TensorFlow binary is optimized with oneAPI Deep Neural Network Library (oneDNN) to use the following CPU instructions in performance-critical operations:  AVX2 AVX512F FMA\n",
      "To enable them in other operations, rebuild TensorFlow with the appropriate compiler flags.\n",
      "2023-01-24 05:01:03.782117: I tensorflow/stream_executor/cuda/cuda_gpu_executor.cc:937] successful NUMA node read from SysFS had negative value (-1), but there must be at least one NUMA node, so returning NUMA node zero\n",
      "2023-01-24 05:01:03.783199: I tensorflow/stream_executor/cuda/cuda_gpu_executor.cc:937] successful NUMA node read from SysFS had negative value (-1), but there must be at least one NUMA node, so returning NUMA node zero\n",
      "2023-01-24 05:01:03.784208: I tensorflow/stream_executor/cuda/cuda_gpu_executor.cc:937] successful NUMA node read from SysFS had negative value (-1), but there must be at least one NUMA node, so returning NUMA node zero\n",
      "2023-01-24 05:01:03.785293: I tensorflow/stream_executor/cuda/cuda_gpu_executor.cc:937] successful NUMA node read from SysFS had negative value (-1), but there must be at least one NUMA node, so returning NUMA node zero\n",
      "2023-01-24 05:01:03.786282: I tensorflow/stream_executor/cuda/cuda_gpu_executor.cc:937] successful NUMA node read from SysFS had negative value (-1), but there must be at least one NUMA node, so returning NUMA node zero\n",
      "2023-01-24 05:01:03.787299: I tensorflow/stream_executor/cuda/cuda_gpu_executor.cc:937] successful NUMA node read from SysFS had negative value (-1), but there must be at least one NUMA node, so returning NUMA node zero\n",
      "2023-01-24 05:01:06.234722: I tensorflow/stream_executor/cuda/cuda_gpu_executor.cc:937] successful NUMA node read from SysFS had negative value (-1), but there must be at least one NUMA node, so returning NUMA node zero\n",
      "2023-01-24 05:01:06.235650: I tensorflow/stream_executor/cuda/cuda_gpu_executor.cc:937] successful NUMA node read from SysFS had negative value (-1), but there must be at least one NUMA node, so returning NUMA node zero\n",
      "2023-01-24 05:01:06.236362: I tensorflow/stream_executor/cuda/cuda_gpu_executor.cc:937] successful NUMA node read from SysFS had negative value (-1), but there must be at least one NUMA node, so returning NUMA node zero\n",
      "2023-01-24 05:01:06.237062: I tensorflow/stream_executor/cuda/cuda_gpu_executor.cc:937] successful NUMA node read from SysFS had negative value (-1), but there must be at least one NUMA node, so returning NUMA node zero\n",
      "2023-01-24 05:01:06.237790: I tensorflow/stream_executor/cuda/cuda_gpu_executor.cc:937] successful NUMA node read from SysFS had negative value (-1), but there must be at least one NUMA node, so returning NUMA node zero\n",
      "2023-01-24 05:01:06.238461: I tensorflow/core/common_runtime/gpu/gpu_device.cc:1510] Created device /job:localhost/replica:0/task:0/device:GPU:0 with 13789 MB memory:  -> device: 0, name: Tesla T4, pci bus id: 0000:00:04.0, compute capability: 7.5\n",
      "2023-01-24 05:01:06.241146: I tensorflow/stream_executor/cuda/cuda_gpu_executor.cc:937] successful NUMA node read from SysFS had negative value (-1), but there must be at least one NUMA node, so returning NUMA node zero\n",
      "2023-01-24 05:01:06.241816: I tensorflow/core/common_runtime/gpu/gpu_device.cc:1510] Created device /job:localhost/replica:0/task:0/device:GPU:1 with 13789 MB memory:  -> device: 1, name: Tesla T4, pci bus id: 0000:00:05.0, compute capability: 7.5\n"
     ]
    }
   ],
   "source": [
    "model=Sequential()"
   ]
  },
  {
   "cell_type": "code",
   "execution_count": 43,
   "id": "decf173d",
   "metadata": {
    "execution": {
     "iopub.execute_input": "2023-01-24T05:01:06.604803Z",
     "iopub.status.busy": "2023-01-24T05:01:06.603678Z",
     "iopub.status.idle": "2023-01-24T05:01:06.611378Z",
     "shell.execute_reply": "2023-01-24T05:01:06.610245Z"
    },
    "papermill": {
     "duration": 0.028791,
     "end_time": "2023-01-24T05:01:06.613666",
     "exception": false,
     "start_time": "2023-01-24T05:01:06.584875",
     "status": "completed"
    },
    "tags": []
   },
   "outputs": [
    {
     "data": {
      "text/plain": [
       "(150, 5)"
      ]
     },
     "execution_count": 43,
     "metadata": {},
     "output_type": "execute_result"
    }
   ],
   "source": [
    "x_train.shape"
   ]
  },
  {
   "cell_type": "code",
   "execution_count": 44,
   "id": "d93bee51",
   "metadata": {
    "execution": {
     "iopub.execute_input": "2023-01-24T05:01:06.650223Z",
     "iopub.status.busy": "2023-01-24T05:01:06.649833Z",
     "iopub.status.idle": "2023-01-24T05:01:06.707348Z",
     "shell.execute_reply": "2023-01-24T05:01:06.706303Z"
    },
    "papermill": {
     "duration": 0.078776,
     "end_time": "2023-01-24T05:01:06.709993",
     "exception": false,
     "start_time": "2023-01-24T05:01:06.631217",
     "status": "completed"
    },
    "tags": []
   },
   "outputs": [],
   "source": [
    "model.add(Dense(units=125,activation='relu',input_dim=5))\n",
    "model.add(Dense(units=25,activation='sigmoid'))\n",
    "model.add(Dense(units=5,activation='sigmoid'))"
   ]
  },
  {
   "cell_type": "code",
   "execution_count": 45,
   "id": "88a3eeb1",
   "metadata": {
    "execution": {
     "iopub.execute_input": "2023-01-24T05:01:06.742593Z",
     "iopub.status.busy": "2023-01-24T05:01:06.741672Z",
     "iopub.status.idle": "2023-01-24T05:01:06.755054Z",
     "shell.execute_reply": "2023-01-24T05:01:06.754158Z"
    },
    "papermill": {
     "duration": 0.031388,
     "end_time": "2023-01-24T05:01:06.756910",
     "exception": false,
     "start_time": "2023-01-24T05:01:06.725522",
     "status": "completed"
    },
    "tags": []
   },
   "outputs": [],
   "source": [
    "model.compile(optimizer='adam',loss='sparse_categorical_crossentropy',metrics=['accuracy'])"
   ]
  },
  {
   "cell_type": "code",
   "execution_count": 46,
   "id": "67d8c70a",
   "metadata": {
    "execution": {
     "iopub.execute_input": "2023-01-24T05:01:06.788738Z",
     "iopub.status.busy": "2023-01-24T05:01:06.788032Z",
     "iopub.status.idle": "2023-01-24T05:01:17.509308Z",
     "shell.execute_reply": "2023-01-24T05:01:17.507954Z"
    },
    "papermill": {
     "duration": 10.738966,
     "end_time": "2023-01-24T05:01:17.511372",
     "exception": false,
     "start_time": "2023-01-24T05:01:06.772406",
     "status": "completed"
    },
    "tags": []
   },
   "outputs": [
    {
     "name": "stderr",
     "output_type": "stream",
     "text": [
      "2023-01-24 05:01:06.853240: I tensorflow/compiler/mlir/mlir_graph_optimization_pass.cc:185] None of the MLIR Optimization Passes are enabled (registered 2)\n"
     ]
    },
    {
     "name": "stdout",
     "output_type": "stream",
     "text": [
      "Epoch 1/100\n",
      "50/50 [==============================] - 2s 2ms/step - loss: 1.5162 - accuracy: 0.3867\n",
      "Epoch 2/100\n",
      "50/50 [==============================] - 0s 2ms/step - loss: 1.2525 - accuracy: 0.5133\n",
      "Epoch 3/100\n",
      "50/50 [==============================] - 0s 2ms/step - loss: 1.1830 - accuracy: 0.5333\n",
      "Epoch 4/100\n",
      "50/50 [==============================] - 0s 2ms/step - loss: 1.1336 - accuracy: 0.5400\n",
      "Epoch 5/100\n",
      "50/50 [==============================] - 0s 2ms/step - loss: 1.1264 - accuracy: 0.5600\n",
      "Epoch 6/100\n",
      "50/50 [==============================] - 0s 2ms/step - loss: 1.0656 - accuracy: 0.5733\n",
      "Epoch 7/100\n",
      "50/50 [==============================] - 0s 2ms/step - loss: 1.0505 - accuracy: 0.5867\n",
      "Epoch 8/100\n",
      "50/50 [==============================] - 0s 2ms/step - loss: 1.0118 - accuracy: 0.5867\n",
      "Epoch 9/100\n",
      "50/50 [==============================] - 0s 2ms/step - loss: 1.0151 - accuracy: 0.6133\n",
      "Epoch 10/100\n",
      "50/50 [==============================] - 0s 2ms/step - loss: 1.0051 - accuracy: 0.5800\n",
      "Epoch 11/100\n",
      "50/50 [==============================] - 0s 2ms/step - loss: 0.9718 - accuracy: 0.6200\n",
      "Epoch 12/100\n",
      "50/50 [==============================] - 0s 2ms/step - loss: 0.9129 - accuracy: 0.6800\n",
      "Epoch 13/100\n",
      "50/50 [==============================] - 0s 2ms/step - loss: 0.8636 - accuracy: 0.7467\n",
      "Epoch 14/100\n",
      "50/50 [==============================] - 0s 2ms/step - loss: 0.8585 - accuracy: 0.7000\n",
      "Epoch 15/100\n",
      "50/50 [==============================] - 0s 2ms/step - loss: 0.8187 - accuracy: 0.6933\n",
      "Epoch 16/100\n",
      "50/50 [==============================] - 0s 2ms/step - loss: 0.7856 - accuracy: 0.7333\n",
      "Epoch 17/100\n",
      "50/50 [==============================] - 0s 3ms/step - loss: 0.7566 - accuracy: 0.7667\n",
      "Epoch 18/100\n",
      "50/50 [==============================] - 0s 2ms/step - loss: 0.7407 - accuracy: 0.7533\n",
      "Epoch 19/100\n",
      "50/50 [==============================] - 0s 2ms/step - loss: 0.7527 - accuracy: 0.7133\n",
      "Epoch 20/100\n",
      "50/50 [==============================] - 0s 2ms/step - loss: 0.7076 - accuracy: 0.8067\n",
      "Epoch 21/100\n",
      "50/50 [==============================] - 0s 2ms/step - loss: 0.6972 - accuracy: 0.7533\n",
      "Epoch 22/100\n",
      "50/50 [==============================] - 0s 2ms/step - loss: 0.6609 - accuracy: 0.7667\n",
      "Epoch 23/100\n",
      "50/50 [==============================] - 0s 2ms/step - loss: 0.6362 - accuracy: 0.7800\n",
      "Epoch 24/100\n",
      "50/50 [==============================] - 0s 2ms/step - loss: 0.6401 - accuracy: 0.7800\n",
      "Epoch 25/100\n",
      "50/50 [==============================] - 0s 2ms/step - loss: 0.6355 - accuracy: 0.7667\n",
      "Epoch 26/100\n",
      "50/50 [==============================] - 0s 2ms/step - loss: 0.6259 - accuracy: 0.7800\n",
      "Epoch 27/100\n",
      "50/50 [==============================] - 0s 2ms/step - loss: 0.6224 - accuracy: 0.7600\n",
      "Epoch 28/100\n",
      "50/50 [==============================] - 0s 2ms/step - loss: 0.6099 - accuracy: 0.7800\n",
      "Epoch 29/100\n",
      "50/50 [==============================] - 0s 2ms/step - loss: 0.5787 - accuracy: 0.7800\n",
      "Epoch 30/100\n",
      "50/50 [==============================] - 0s 2ms/step - loss: 0.5401 - accuracy: 0.8133\n",
      "Epoch 31/100\n",
      "50/50 [==============================] - 0s 2ms/step - loss: 0.5482 - accuracy: 0.7733\n",
      "Epoch 32/100\n",
      "50/50 [==============================] - 0s 2ms/step - loss: 0.5355 - accuracy: 0.8000\n",
      "Epoch 33/100\n",
      "50/50 [==============================] - 0s 2ms/step - loss: 0.5548 - accuracy: 0.7933\n",
      "Epoch 34/100\n",
      "50/50 [==============================] - 0s 2ms/step - loss: 0.5043 - accuracy: 0.8000\n",
      "Epoch 35/100\n",
      "50/50 [==============================] - 0s 2ms/step - loss: 0.5557 - accuracy: 0.7467\n",
      "Epoch 36/100\n",
      "50/50 [==============================] - 0s 2ms/step - loss: 0.5045 - accuracy: 0.8067\n",
      "Epoch 37/100\n",
      "50/50 [==============================] - 0s 2ms/step - loss: 0.4788 - accuracy: 0.8267\n",
      "Epoch 38/100\n",
      "50/50 [==============================] - 0s 2ms/step - loss: 0.5090 - accuracy: 0.8133\n",
      "Epoch 39/100\n",
      "50/50 [==============================] - 0s 2ms/step - loss: 0.4848 - accuracy: 0.8067\n",
      "Epoch 40/100\n",
      "50/50 [==============================] - 0s 2ms/step - loss: 0.4639 - accuracy: 0.8267\n",
      "Epoch 41/100\n",
      "50/50 [==============================] - 0s 2ms/step - loss: 0.4508 - accuracy: 0.8267\n",
      "Epoch 42/100\n",
      "50/50 [==============================] - 0s 2ms/step - loss: 0.4696 - accuracy: 0.8267\n",
      "Epoch 43/100\n",
      "50/50 [==============================] - 0s 2ms/step - loss: 0.4573 - accuracy: 0.7933\n",
      "Epoch 44/100\n",
      "50/50 [==============================] - 0s 2ms/step - loss: 0.4513 - accuracy: 0.8267\n",
      "Epoch 45/100\n",
      "50/50 [==============================] - 0s 2ms/step - loss: 0.4251 - accuracy: 0.8200\n",
      "Epoch 46/100\n",
      "50/50 [==============================] - 0s 2ms/step - loss: 0.4252 - accuracy: 0.8400\n",
      "Epoch 47/100\n",
      "50/50 [==============================] - 0s 2ms/step - loss: 0.3974 - accuracy: 0.8400\n",
      "Epoch 48/100\n",
      "50/50 [==============================] - 0s 2ms/step - loss: 0.3982 - accuracy: 0.8600\n",
      "Epoch 49/100\n",
      "50/50 [==============================] - 0s 2ms/step - loss: 0.4391 - accuracy: 0.8200\n",
      "Epoch 50/100\n",
      "50/50 [==============================] - 0s 2ms/step - loss: 0.4090 - accuracy: 0.8733\n",
      "Epoch 51/100\n",
      "50/50 [==============================] - 0s 2ms/step - loss: 0.3972 - accuracy: 0.8533\n",
      "Epoch 52/100\n",
      "50/50 [==============================] - 0s 2ms/step - loss: 0.3791 - accuracy: 0.8733\n",
      "Epoch 53/100\n",
      "50/50 [==============================] - 0s 2ms/step - loss: 0.3573 - accuracy: 0.8733\n",
      "Epoch 54/100\n",
      "50/50 [==============================] - 0s 2ms/step - loss: 0.3488 - accuracy: 0.8733\n",
      "Epoch 55/100\n",
      "50/50 [==============================] - 0s 2ms/step - loss: 0.3587 - accuracy: 0.8667\n",
      "Epoch 56/100\n",
      "50/50 [==============================] - 0s 2ms/step - loss: 0.3398 - accuracy: 0.8733\n",
      "Epoch 57/100\n",
      "50/50 [==============================] - 0s 2ms/step - loss: 0.3206 - accuracy: 0.9000\n",
      "Epoch 58/100\n",
      "50/50 [==============================] - 0s 2ms/step - loss: 0.3685 - accuracy: 0.8733\n",
      "Epoch 59/100\n",
      "50/50 [==============================] - 0s 2ms/step - loss: 0.3081 - accuracy: 0.9133\n",
      "Epoch 60/100\n",
      "50/50 [==============================] - 0s 2ms/step - loss: 0.3121 - accuracy: 0.9133\n",
      "Epoch 61/100\n",
      "50/50 [==============================] - 0s 2ms/step - loss: 0.3109 - accuracy: 0.9200\n",
      "Epoch 62/100\n",
      "50/50 [==============================] - 0s 2ms/step - loss: 0.3126 - accuracy: 0.8933\n",
      "Epoch 63/100\n",
      "50/50 [==============================] - 0s 3ms/step - loss: 0.3188 - accuracy: 0.9000\n",
      "Epoch 64/100\n",
      "50/50 [==============================] - 0s 2ms/step - loss: 0.3152 - accuracy: 0.9133\n",
      "Epoch 65/100\n",
      "50/50 [==============================] - 0s 2ms/step - loss: 0.3281 - accuracy: 0.9000\n",
      "Epoch 66/100\n",
      "50/50 [==============================] - 0s 2ms/step - loss: 0.3023 - accuracy: 0.9133\n",
      "Epoch 67/100\n",
      "50/50 [==============================] - 0s 3ms/step - loss: 0.2660 - accuracy: 0.9333\n",
      "Epoch 68/100\n",
      "50/50 [==============================] - 0s 2ms/step - loss: 0.3098 - accuracy: 0.8933\n",
      "Epoch 69/100\n",
      "50/50 [==============================] - 0s 2ms/step - loss: 0.2792 - accuracy: 0.9200\n",
      "Epoch 70/100\n",
      "50/50 [==============================] - 0s 2ms/step - loss: 0.2617 - accuracy: 0.9267\n",
      "Epoch 71/100\n",
      "50/50 [==============================] - 0s 2ms/step - loss: 0.2581 - accuracy: 0.9200\n",
      "Epoch 72/100\n",
      "50/50 [==============================] - 0s 2ms/step - loss: 0.2642 - accuracy: 0.9200\n",
      "Epoch 73/100\n",
      "50/50 [==============================] - 0s 2ms/step - loss: 0.2765 - accuracy: 0.9133\n",
      "Epoch 74/100\n",
      "50/50 [==============================] - 0s 2ms/step - loss: 0.2675 - accuracy: 0.9067\n",
      "Epoch 75/100\n",
      "50/50 [==============================] - 0s 2ms/step - loss: 0.3354 - accuracy: 0.8667\n",
      "Epoch 76/100\n",
      "50/50 [==============================] - 0s 2ms/step - loss: 0.2968 - accuracy: 0.8800\n",
      "Epoch 77/100\n",
      "50/50 [==============================] - 0s 2ms/step - loss: 0.2264 - accuracy: 0.9533\n",
      "Epoch 78/100\n",
      "50/50 [==============================] - 0s 2ms/step - loss: 0.2202 - accuracy: 0.9400\n",
      "Epoch 79/100\n",
      "50/50 [==============================] - 0s 2ms/step - loss: 0.2358 - accuracy: 0.9267\n",
      "Epoch 80/100\n",
      "50/50 [==============================] - 0s 2ms/step - loss: 0.2097 - accuracy: 0.9467\n",
      "Epoch 81/100\n",
      "50/50 [==============================] - 0s 2ms/step - loss: 0.2293 - accuracy: 0.9333\n",
      "Epoch 82/100\n",
      "50/50 [==============================] - 0s 2ms/step - loss: 0.2289 - accuracy: 0.9400\n",
      "Epoch 83/100\n",
      "50/50 [==============================] - 0s 2ms/step - loss: 0.2097 - accuracy: 0.9533\n",
      "Epoch 84/100\n",
      "50/50 [==============================] - 0s 2ms/step - loss: 0.1945 - accuracy: 0.9533\n",
      "Epoch 85/100\n",
      "50/50 [==============================] - 0s 2ms/step - loss: 0.1987 - accuracy: 0.9467\n",
      "Epoch 86/100\n",
      "50/50 [==============================] - 0s 2ms/step - loss: 0.1937 - accuracy: 0.9467\n",
      "Epoch 87/100\n",
      "50/50 [==============================] - 0s 2ms/step - loss: 0.1940 - accuracy: 0.9533\n",
      "Epoch 88/100\n",
      "50/50 [==============================] - 0s 2ms/step - loss: 0.1826 - accuracy: 0.9600\n",
      "Epoch 89/100\n",
      "50/50 [==============================] - 0s 2ms/step - loss: 0.1675 - accuracy: 0.9667\n",
      "Epoch 90/100\n",
      "50/50 [==============================] - 0s 2ms/step - loss: 0.1798 - accuracy: 0.9467\n",
      "Epoch 91/100\n",
      "50/50 [==============================] - 0s 2ms/step - loss: 0.1909 - accuracy: 0.9333\n",
      "Epoch 92/100\n",
      "50/50 [==============================] - 0s 2ms/step - loss: 0.1725 - accuracy: 0.9400\n",
      "Epoch 93/100\n",
      "50/50 [==============================] - 0s 2ms/step - loss: 0.1954 - accuracy: 0.9533\n",
      "Epoch 94/100\n",
      "50/50 [==============================] - 0s 2ms/step - loss: 0.1715 - accuracy: 0.9467\n",
      "Epoch 95/100\n",
      "50/50 [==============================] - 0s 2ms/step - loss: 0.1981 - accuracy: 0.9267\n",
      "Epoch 96/100\n",
      "50/50 [==============================] - 0s 2ms/step - loss: 0.1710 - accuracy: 0.9533\n",
      "Epoch 97/100\n",
      "50/50 [==============================] - 0s 2ms/step - loss: 0.2324 - accuracy: 0.9333\n",
      "Epoch 98/100\n",
      "50/50 [==============================] - 0s 2ms/step - loss: 0.1510 - accuracy: 0.9533\n",
      "Epoch 99/100\n",
      "50/50 [==============================] - 0s 2ms/step - loss: 0.1664 - accuracy: 0.9600\n",
      "Epoch 100/100\n",
      "50/50 [==============================] - 0s 2ms/step - loss: 0.1538 - accuracy: 0.9667\n"
     ]
    },
    {
     "data": {
      "text/plain": [
       "<keras.callbacks.History at 0x7f62fc1ecd90>"
      ]
     },
     "execution_count": 46,
     "metadata": {},
     "output_type": "execute_result"
    }
   ],
   "source": [
    "model.fit(x_train, y_train, epochs=100, batch_size=3)"
   ]
  },
  {
   "cell_type": "markdown",
   "id": "687ea5cf",
   "metadata": {
    "papermill": {
     "duration": 0.030272,
     "end_time": "2023-01-24T05:01:17.573220",
     "exception": false,
     "start_time": "2023-01-24T05:01:17.542948",
     "status": "completed"
    },
    "tags": []
   },
   "source": [
    "With the Accuracy as 92% we have our model"
   ]
  },
  {
   "cell_type": "code",
   "execution_count": 47,
   "id": "b7d6e7d0",
   "metadata": {
    "execution": {
     "iopub.execute_input": "2023-01-24T05:01:17.636380Z",
     "iopub.status.busy": "2023-01-24T05:01:17.635362Z",
     "iopub.status.idle": "2023-01-24T05:01:17.855742Z",
     "shell.execute_reply": "2023-01-24T05:01:17.853742Z"
    },
    "papermill": {
     "duration": 0.25438,
     "end_time": "2023-01-24T05:01:17.857999",
     "exception": false,
     "start_time": "2023-01-24T05:01:17.603619",
     "status": "completed"
    },
    "tags": []
   },
   "outputs": [
    {
     "name": "stdout",
     "output_type": "stream",
     "text": [
      "[0.14898908138275146, 0.9666666388511658] [0.35398542881011963, 0.8999999761581421]\n"
     ]
    }
   ],
   "source": [
    "train_acc = model.evaluate(x_train, y_train, verbose=0)\n",
    "test_acc = model.evaluate(x_test, y_test, verbose=0)\n",
    "print(train_acc,test_acc)"
   ]
  },
  {
   "cell_type": "code",
   "execution_count": 48,
   "id": "eeda84e3",
   "metadata": {
    "execution": {
     "iopub.execute_input": "2023-01-24T05:01:17.920312Z",
     "iopub.status.busy": "2023-01-24T05:01:17.919929Z",
     "iopub.status.idle": "2023-01-24T05:01:18.024517Z",
     "shell.execute_reply": "2023-01-24T05:01:18.023457Z"
    },
    "papermill": {
     "duration": 0.138567,
     "end_time": "2023-01-24T05:01:18.027238",
     "exception": false,
     "start_time": "2023-01-24T05:01:17.888671",
     "status": "completed"
    },
    "tags": []
   },
   "outputs": [],
   "source": [
    "y_pred=model.predict(x_test)"
   ]
  }
 ],
 "metadata": {
  "kernelspec": {
   "display_name": "Python 3 (ipykernel)",
   "language": "python",
   "name": "python3"
  },
  "language_info": {
   "codemirror_mode": {
    "name": "ipython",
    "version": 3
   },
   "file_extension": ".py",
   "mimetype": "text/x-python",
   "name": "python",
   "nbconvert_exporter": "python",
   "pygments_lexer": "ipython3",
   "version": "3.10.2"
  },
  "papermill": {
   "default_parameters": {},
   "duration": 39.279093,
   "end_time": "2023-01-24T05:01:21.543982",
   "environment_variables": {},
   "exception": null,
   "input_path": "__notebook__.ipynb",
   "output_path": "__notebook__.ipynb",
   "parameters": {},
   "start_time": "2023-01-24T05:00:42.264889",
   "version": "2.3.4"
  }
 },
 "nbformat": 4,
 "nbformat_minor": 5
}
